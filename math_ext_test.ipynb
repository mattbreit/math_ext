{
 "cells": [
  {
   "cell_type": "code",
   "execution_count": 18,
   "metadata": {},
   "outputs": [
    {
     "name": "stdout",
     "output_type": "stream",
     "text": [
      "3.6.9 (default, Sep 14 2019, 19:14:54) \n",
      "[GCC 7.3.1 20180303 (Red Hat 7.3.1-5)]\n",
      "sys.version_info(major=3, minor=6, micro=9, releaselevel='final', serial=0)\n"
     ]
    }
   ],
   "source": [
    "import sys\n",
    "print(sys.version)\n",
    "print(sys.version_info)"
   ]
  },
  {
   "cell_type": "code",
   "execution_count": 26,
   "metadata": {},
   "outputs": [
    {
     "data": {
      "text/plain": [
       "(80658175170943878571660636856403766975289505440883277824000000000000,\n",
       " '8.06582e+67',\n",
       " 32951280099,\n",
       " 1378)"
      ]
     },
     "execution_count": 26,
     "metadata": {},
     "output_type": "execute_result"
    }
   ],
   "source": [
    "import math_ext\n",
    "import math\n",
    "f = math.factorial(52)\n",
    "\n",
    "f,'%g'%f,math_ext.fibonacci(52),math_ext.triangular(52)"
   ]
  },
  {
   "cell_type": "code",
   "execution_count": 1,
   "metadata": {},
   "outputs": [
    {
     "data": {
      "text/plain": [
       "(1035, 44.224154547626725)"
      ]
     },
     "execution_count": 1,
     "metadata": {},
     "output_type": "execute_result"
    }
   ],
   "source": [
    "import math_ext\n",
    "math_ext.triangular(45),math_ext.triangular_root(1000)"
   ]
  },
  {
   "cell_type": "code",
   "execution_count": null,
   "metadata": {},
   "outputs": [
    {
     "name": "stdout",
     "output_type": "stream",
     "text": [
      "def triangular_root(n):\n",
      "    return div(sqrt(8 * n + 1) - 1, 2)\n",
      "\n",
      "\n",
      "\n"
     ]
    }
   ],
   "source": [
    "import os\n",
    "from itertools import takewhile\n",
    "def dumpr(obj):\n",
    "    if isinstance(obj, (int,float,str,list,dict)):\n",
    "        return obj\n",
    "    else:\n",
    "        return {k: dumpr(getattr(obj,k)) for k in dir(obj)}\n",
    "def dumpobj(obj):\n",
    "    return {k: getattr(obj,k) for k in dir(obj)}\n",
    "def get_indent(line):\n",
    "    return ''.join(takewhile(str.isspace, line))\n",
    "def get_source(func):\n",
    "    code = func.__code__\n",
    "    firstlineno = code.co_firstlineno\n",
    "    filename = code.co_filename\n",
    "    firstline_indent = None\n",
    "    source = ''\n",
    "    with open(filename) as f:\n",
    "        for n, line in enumerate(f):\n",
    "            if (n + 1) == firstlineno:\n",
    "                source += line\n",
    "                firstline_indent = get_indent(line)\n",
    "            elif firstline_indent is not None:\n",
    "                indent = get_indent(line)\n",
    "                if line.strip() != '' and indent == firstline_indent:\n",
    "                    break\n",
    "                else:\n",
    "                    source += line\n",
    "    return source\n",
    "                \n",
    "#dumpobj(math_ext.triangular_root.__code__)\n",
    "print(get_source(math_ext.triangular_root))\n",
    "#print(dir(str))\n",
    "#str.isspace('\\r')\n",
    "#print(get_source(takewhile))\n",
    "#dir(takewhile.__init__)\n",
    "\n",
    "#import csv\n",
    "#dir(csv.reader)"
   ]
  },
  {
   "cell_type": "code",
   "execution_count": null,
   "metadata": {},
   "outputs": [],
   "source": []
  }
 ],
 "metadata": {
  "kernelspec": {
   "display_name": "Python 3",
   "language": "python",
   "name": "python3"
  },
  "language_info": {
   "codemirror_mode": {
    "name": "ipython",
    "version": 3
   },
   "file_extension": ".py",
   "mimetype": "text/x-python",
   "name": "python",
   "nbconvert_exporter": "python",
   "pygments_lexer": "ipython3",
   "version": "3.6.9"
  }
 },
 "nbformat": 4,
 "nbformat_minor": 2
}